{
 "cells": [
  {
   "cell_type": "code",
   "execution_count": 1,
   "id": "c04ac866",
   "metadata": {},
   "outputs": [],
   "source": [
    "import pandas as pd\n",
    "import os,re\n",
    "from nltk import *\n",
    "from nltk.corpus import stopwords\n",
    "from sklearn.feature_extraction.text import CountVectorizer\n"
   ]
  },
  {
   "cell_type": "code",
   "execution_count": 2,
   "id": "e84c10ba",
   "metadata": {},
   "outputs": [],
   "source": [
    "doc_names = os.listdir(\"files\")\n",
    "docs = list()"
   ]
  },
  {
   "cell_type": "code",
   "execution_count": 3,
   "id": "e990c735",
   "metadata": {},
   "outputs": [],
   "source": [
    "for doc_name in doc_names:\n",
    "    #Tokenization | these tokens includes punctuation marks also\n",
    "    # tokens = list()\n",
    "    # tokens = word_tokenize(file.read())\n",
    "    #print(tokens)\n",
    "\n",
    "    # These tokens will not contain punctuation marks\n",
    "    tokenizer = RegexpTokenizer(r'\\w+')\n",
    "    text_without_urls = re.sub(r\"http\\S+\", \"\", open(\"files/\"+doc_name,encoding=\"UTF-8\").read())\n",
    "    tokens = tokenizer.tokenize(text_without_urls)\n",
    "    \n",
    "    # Writing tokens to output file\n",
    "    tokens_file = open(\"tokens/\"+doc_name+\"_tokens.txt\",\"w+\")\n",
    "    tokens_file.write(\",\".join(tokens))\n",
    "    tokens_file.flush()\n",
    "    tokens_file.close()\n",
    "    \n",
    "    # Opening & reading tokens file\n",
    "    tokens_file = tokens_file = open(\"tokens/\"+doc_name+\"_tokens.txt\",\"r+\")\n",
    "    tokens = tokens_file.read().split(\",\")\n",
    "    \n",
    "    #Stop Word Removal\n",
    "    stop_words = stopwords.words('english')\n",
    "    filtered_words = list()\n",
    "    for token in tokens:\n",
    "        if token not in stop_words:\n",
    "            filtered_words.append(token)        \n",
    "    \n",
    "    # Writing reduced output to output file\n",
    "    reduced_file = open(\"reduced/\"+doc_name+\"_reduced.txt\",\"w+\")\n",
    "    reduced_file.write(\",\".join(filtered_words))\n",
    "    reduced_file.flush()\n",
    "    reduced_file.close()\n",
    "    \n",
    "    # Opening & reading reduced file\n",
    "    reduced_file = open(\"reduced/\"+doc_name+\"_reduced.txt\",\"r+\")\n",
    "    filtered_words = reduced_file.read().split(\",\")\n",
    "    \n",
    "    #POS tagging after stop words removal\n",
    "    tagged_tokens = pos_tag(filtered_words)\n",
    "    \n",
    "    '''# Stemming (PorterStemming)\n",
    "    stemmed_base_words = list()\n",
    "    stemmer = PorterStemmer()\n",
    "    for word in filtered_words:\n",
    "        stemmed_base_words.append(stemmer.stem(word))\n",
    "    # print(base_words)\n",
    "    '''\n",
    "\n",
    "    #Lemmitizing using WordNetLemmatizer\n",
    "    lemmatized_base_words = list()\n",
    "    lemmatizer = WordNetLemmatizer()\n",
    "\n",
    "    for word,tag in tagged_tokens:\n",
    "        word_net_tag = tag[0].lower()\n",
    "                \n",
    "        word_net_tag = word_net_tag if word_net_tag in ['a', 'r', 'n', 'v'] else None\n",
    "        if not word_net_tag:\n",
    "            lemmatized_base_words.append(word)\n",
    "        else:\n",
    "            lemmatized_base_words.append(lemmatizer.lemmatize(word,word_net_tag))\n",
    "        \n",
    "    ##print(lemmatized_base_words)\n",
    "    preprocessed_file = open(\"preprocessed/\"+doc_name+\"_preprocessed.txt\",\"w+\");\n",
    "    preprocessed_file.write(\",\".join(lemmatized_base_words))\n",
    "    preprocessed_file.flush()\n",
    "    preprocessed_file.close()\n",
    "    \n",
    "    preprocessed_file = open(\"preprocessed/\"+doc_name+\"_preprocessed.txt\",\"r+\");\n",
    "    docs.append(preprocessed_file.read())\n",
    "    preprocessed_file.close()"
   ]
  },
  {
   "cell_type": "code",
   "execution_count": 4,
   "id": "2ba59921",
   "metadata": {},
   "outputs": [
    {
     "name": "stdout",
     "output_type": "stream",
     "text": [
      "Output File Generated: my_data_frame.csv\n"
     ]
    }
   ],
   "source": [
    "vec = CountVectorizer()\n",
    "x = vec.fit_transform(docs)\n",
    "\n",
    "frame = pd.DataFrame(x.toarray(),columns=vec.get_feature_names(), index=doc_names)\n",
    "\n",
    "frame.to_csv(\"output/my_data_frame.csv\")\n",
    "print(\"Output File Generated: my_data_frame.csv\")"
   ]
  },
  {
   "cell_type": "code",
   "execution_count": 5,
   "id": "9636a7df",
   "metadata": {},
   "outputs": [
    {
     "data": {
      "text/plain": [
       "{'neg': 0.0, 'neu': 0.95, 'pos': 0.05, 'compound': 0.5994}"
      ]
     },
     "execution_count": 5,
     "metadata": {},
     "output_type": "execute_result"
    }
   ],
   "source": [
    "from nltk.sentiment import SentimentIntensityAnalyzer\n",
    "sia = SentimentIntensityAnalyzer()\n",
    "sia.polarity_scores(open(\"files/doc1.txt\").read())"
   ]
  },
  {
   "cell_type": "code",
   "execution_count": null,
   "id": "ef5e4391",
   "metadata": {},
   "outputs": [],
   "source": []
  }
 ],
 "metadata": {
  "kernelspec": {
   "display_name": "Python 3",
   "language": "python",
   "name": "python3"
  },
  "language_info": {
   "codemirror_mode": {
    "name": "ipython",
    "version": 3
   },
   "file_extension": ".py",
   "mimetype": "text/x-python",
   "name": "python",
   "nbconvert_exporter": "python",
   "pygments_lexer": "ipython3",
   "version": "3.8.8"
  }
 },
 "nbformat": 4,
 "nbformat_minor": 5
}

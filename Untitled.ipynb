{
 "cells": [
  {
   "cell_type": "code",
   "execution_count": 16,
   "id": "575374fd",
   "metadata": {},
   "outputs": [],
   "source": [
    "import pandas as pd\n",
    "import os\n",
    "from nltk import *\n",
    "from nltk.corpus import stopwords\n",
    "from sklearn.feature_extraction.text import CountVectorizer\n"
   ]
  },
  {
   "cell_type": "code",
   "execution_count": 17,
   "id": "3e14e76f",
   "metadata": {},
   "outputs": [],
   "source": [
    "doc_names = os.listdir(\"files\")\n",
    "docs = list()"
   ]
  },
  {
   "cell_type": "code",
   "execution_count": 18,
   "id": "d08f6c89",
   "metadata": {},
   "outputs": [],
   "source": [
    "for doc_name in doc_names:\n",
    "    #Tokenization | these tokens includes punctuation marks also\n",
    "    # tokens = list()\n",
    "    # tokens = word_tokenize(file.read())\n",
    "    #print(tokens)\n",
    "\n",
    "    # These tokens will not contain punctuation marks\n",
    "    tokenizer = RegexpTokenizer(r'\\w+')\n",
    "    tokens = tokenizer.tokenize(open(\"files/\"+doc_name).read())\n",
    "\n",
    "    #Stop Word Removal\n",
    "    stop_words = stopwords.words('english')\n",
    "    filtered_words = list()\n",
    "    for token in tokens:\n",
    "        if token not in stop_words:\n",
    "            filtered_words.append(token)        \n",
    "    # print(filtered_tokens)\n",
    "\n",
    "    #POS tagging after stop words removal\n",
    "    tagged_tokens = pos_tag(filtered_words)\n",
    "    #print(tagged_tokens)\n",
    "\n",
    "    # Stemming (PorterStemming)\n",
    "    stemmed_base_words = list()\n",
    "    stemmer = PorterStemmer()\n",
    "    for word in filtered_words:\n",
    "        stemmed_base_words.append(stemmer.stem(word))\n",
    "    # print(base_words)\n",
    "\n",
    "\n",
    "    #Lemmitizing (WordNetLemmatizer)\n",
    "    lemmatized_base_words = list()\n",
    "    lemmatizer = WordNetLemmatizer()\n",
    "\n",
    "    for word,tag in tagged_tokens:\n",
    "        word_net_tag = tag[0].lower()\n",
    "                \n",
    "        word_net_tag = word_net_tag if word_net_tag in ['a', 'r', 'n', 'v'] else None\n",
    "        if not word_net_tag:\n",
    "            lemmatized_base_words.append(word)\n",
    "        else:\n",
    "            lemmatized_base_words.append(lemmatizer.lemmatize(word,word_net_tag))\n",
    "        \n",
    "    ##print(lemmatized_base_words)\n",
    "    temp = \" \";\n",
    "    temp = temp.join(lemmatized_base_words)\n",
    "    docs.append(temp)\n"
   ]
  },
  {
   "cell_type": "code",
   "execution_count": 19,
   "id": "63a78548",
   "metadata": {},
   "outputs": [
    {
     "name": "stdout",
     "output_type": "stream",
     "text": [
      "Output File Generated: my_data_frame.csv\n"
     ]
    }
   ],
   "source": [
    "vec = CountVectorizer()\n",
    "##print(docs)\n",
    "x = vec.fit_transform(docs)\n",
    "\n",
    "frame = pd.DataFrame(x.toarray(),columns=vec.get_feature_names(), index=doc_names)\n",
    "\n",
    "frame.to_csv(\"output/my_data_frame.csv\")\n",
    "print(\"Output File Generated: my_data_frame.csv\")"
   ]
  },
  {
   "cell_type": "code",
   "execution_count": null,
   "id": "c2d2169d",
   "metadata": {},
   "outputs": [],
   "source": []
  },
  {
   "cell_type": "code",
   "execution_count": null,
   "id": "d704cba3",
   "metadata": {},
   "outputs": [],
   "source": []
  }
 ],
 "metadata": {
  "kernelspec": {
   "display_name": "Python 3",
   "language": "python",
   "name": "python3"
  },
  "language_info": {
   "codemirror_mode": {
    "name": "ipython",
    "version": 3
   },
   "file_extension": ".py",
   "mimetype": "text/x-python",
   "name": "python",
   "nbconvert_exporter": "python",
   "pygments_lexer": "ipython3",
   "version": "3.8.8"
  }
 },
 "nbformat": 4,
 "nbformat_minor": 5
}
